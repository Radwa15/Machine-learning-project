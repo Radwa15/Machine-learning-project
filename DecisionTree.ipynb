{
  "nbformat": 4,
  "nbformat_minor": 0,
  "metadata": {
    "colab": {
      "name": "DecisionTree.ipynb",
      "provenance": []
    },
    "kernelspec": {
      "name": "python3",
      "display_name": "Python 3"
    },
    "language_info": {
      "name": "python"
    }
  },
  "cells": [
    {
      "cell_type": "code",
      "execution_count": 1,
      "metadata": {
        "id": "WOAD4grFCn7e"
      },
      "outputs": [],
      "source": [
        "import numpy as np\n",
        "import pandas as pd\n",
        "import matplotlib.pyplot as plt\n",
        "import seaborn as sns\n",
        "from sklearn.model_selection import train_test_split\n",
        "from sklearn.metrics import accuracy_score\n",
        "from sklearn.tree import DecisionTreeClassifier\n",
        "%matplotlib inline"
      ]
    },
    {
      "cell_type": "code",
      "source": [
        "data = pd.read_csv(\"Skyserver_SQL2_27_2018 6_51_39 PM.csv\")"
      ],
      "metadata": {
        "id": "lzWux2k1DEB1"
      },
      "execution_count": 2,
      "outputs": []
    },
    {
      "cell_type": "code",
      "source": [
        "data.head()"
      ],
      "metadata": {
        "id": "-kYldscqDHwk"
      },
      "execution_count": null,
      "outputs": []
    },
    {
      "cell_type": "code",
      "source": [
        "data.drop(['objid','specobjid'], axis=1, inplace=True)"
      ],
      "metadata": {
        "id": "CoGOQ7PMDQub"
      },
      "execution_count": null,
      "outputs": []
    },
    {
      "cell_type": "code",
      "source": [
        "sns.countplot(x=data['class'])"
      ],
      "metadata": {
        "id": "P5TBu2FsDXVi"
      },
      "execution_count": null,
      "outputs": []
    },
    {
      "cell_type": "code",
      "source": [
        "def change_category_to_number(classCat):\n",
        "    if classCat=='STAR':\n",
        "        return 0\n",
        "    elif classCat=='GALAXY':\n",
        "        return 1\n",
        "    else:\n",
        "        return 2"
      ],
      "metadata": {
        "id": "uGCt0icYDg1C"
      },
      "execution_count": 5,
      "outputs": []
    },
    {
      "cell_type": "code",
      "source": [
        "data['classCat'] = data['class'].apply(change_category_to_number)"
      ],
      "metadata": {
        "id": "OnS7gXGzDnUr"
      },
      "execution_count": 6,
      "outputs": []
    },
    {
      "cell_type": "code",
      "source": [
        "sns.pairplot(data[['u','g','r','i']])"
      ],
      "metadata": {
        "id": "5Pw0CCp5Dtms"
      },
      "execution_count": null,
      "outputs": []
    },
    {
      "cell_type": "code",
      "source": [
        "sns.pairplot(data[['run','rerun','camcol','field']])"
      ],
      "metadata": {
        "id": "dzYalkZfD4Qi"
      },
      "execution_count": null,
      "outputs": []
    },
    {
      "cell_type": "code",
      "source": [
        "data.drop(['run','rerun','camcol','field','class'],axis=1,inplace=True)"
      ],
      "metadata": {
        "id": "CWOgYY35EFkq"
      },
      "execution_count": 9,
      "outputs": []
    },
    {
      "cell_type": "code",
      "source": [
        "X = data.drop('classCat', axis=1)\n",
        "y = data['classCat']"
      ],
      "metadata": {
        "id": "_-eO8UbaEN16"
      },
      "execution_count": 10,
      "outputs": []
    },
    {
      "cell_type": "code",
      "source": [
        "X_train, X_test, y_train, y_test = train_test_split(X, y, test_size=0.3, random_state=128)"
      ],
      "metadata": {
        "id": "0aYW-lOhERfi"
      },
      "execution_count": 11,
      "outputs": []
    },
    {
      "cell_type": "code",
      "source": [
        "dtClassifer = DecisionTreeClassifier(max_leaf_nodes=15,random_state=0)"
      ],
      "metadata": {
        "id": "R9Yf3vSyEaHb"
      },
      "execution_count": 13,
      "outputs": []
    },
    {
      "cell_type": "code",
      "source": [
        "dtClassifer.fit(X_train, y_train)"
      ],
      "metadata": {
        "colab": {
          "base_uri": "https://localhost:8080/"
        },
        "id": "1lEENAp6E2bl",
        "outputId": "c0c54071-82c8-42fa-c492-7e532b2662f8"
      },
      "execution_count": 14,
      "outputs": [
        {
          "output_type": "execute_result",
          "data": {
            "text/plain": [
              "DecisionTreeClassifier(max_leaf_nodes=15, random_state=0)"
            ]
          },
          "metadata": {},
          "execution_count": 14
        }
      ]
    },
    {
      "cell_type": "code",
      "source": [
        "prediction = dtClassifer.predict(X_test)"
      ],
      "metadata": {
        "id": "uAbUkMTmE8jM"
      },
      "execution_count": 15,
      "outputs": []
    },
    {
      "cell_type": "code",
      "source": [
        "prediction[:10]"
      ],
      "metadata": {
        "colab": {
          "base_uri": "https://localhost:8080/"
        },
        "id": "QrKwmruVFIAM",
        "outputId": "7a5ea93d-5755-4c9f-fce9-eea8d1b1b0fb"
      },
      "execution_count": 16,
      "outputs": [
        {
          "output_type": "execute_result",
          "data": {
            "text/plain": [
              "array([0, 1, 0, 0, 1, 1, 0, 2, 1, 1])"
            ]
          },
          "metadata": {},
          "execution_count": 16
        }
      ]
    },
    {
      "cell_type": "code",
      "source": [
        "y_test[:10]"
      ],
      "metadata": {
        "id": "mkGjX4iGF55q"
      },
      "execution_count": null,
      "outputs": []
    },
    {
      "cell_type": "code",
      "source": [
        "accuracy_score(y_true=y_test, y_pred=prediction)"
      ],
      "metadata": {
        "colab": {
          "base_uri": "https://localhost:8080/"
        },
        "id": "UAlvmFLsF8_i",
        "outputId": "e968b076-9009-43d5-e38a-7cb0917640b2"
      },
      "execution_count": 18,
      "outputs": [
        {
          "output_type": "execute_result",
          "data": {
            "text/plain": [
              "0.9883333333333333"
            ]
          },
          "metadata": {},
          "execution_count": 18
        }
      ]
    }
  ]
}